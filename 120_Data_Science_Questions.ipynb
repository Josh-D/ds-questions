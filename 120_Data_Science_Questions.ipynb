{
 "cells": [
  {
   "cell_type": "markdown",
   "metadata": {},
   "source": [
    "# 120 Data Science Questions"
   ]
  },
  {
   "cell_type": "markdown",
   "metadata": {},
   "source": [
    "## Predictive Modeling"
   ]
  },
  {
   "cell_type": "markdown",
   "metadata": {},
   "source": [
    "#### 1) (Given a Dataset) Analyze this dataset and give me a model that can predict this response variable."
   ]
  },
  {
   "cell_type": "markdown",
   "metadata": {},
   "source": [
    "The type of model (regression or classification) depends on the response variable.\n",
    "\n",
    "If the response variable is continuous, you can use a regression model such as Linear Regression\n",
    "If the response variable is binary, you can use Logistic Regression, which is a classification model.\n",
    "There are also some machine learning algorithms that can be used to predict either, such as Random Forest Regressors/Classifiers"
   ]
  },
  {
   "cell_type": "markdown",
   "metadata": {},
   "source": [
    "#### 2) What could be some issues if the distribution of the test data is significantly different than the distribution of the training data?\n",
    "https://www.quora.com/What-could-be-some-issues-if-the-distribution-of-the-test-data-is-significantly-different-than-the-distribution-of-the-training-data"
   ]
  },
  {
   "cell_type": "markdown",
   "metadata": {},
   "source": [
    "<b>Covariate shift</b>: training and test input follow different distributions, but functional relation remains unchanged.\n",
    "\n",
    "<b>Sample selection bias</b>: the training examples have been obtained through a biased method, such as non-uniform selection.\n",
    "\n",
    "<b>Non-stationary environments</b>: Training environment is different from the test one, whether it's due to a temporal or a spatial change. One typical scenario is adversarial classification problems, such as spam filtering and network intrusion detection.\n"
   ]
  },
  {
   "cell_type": "markdown",
   "metadata": {},
   "source": [
    "#### 3) What are some ways I can make my model more robust to outliers?\n",
    "https://www.quora.com/What-are-methods-to-make-a-predictive-model-more-robust-to-outliers"
   ]
  },
  {
   "cell_type": "markdown",
   "metadata": {},
   "source": [
    "* Use a model that's resistant to outliers. Tree-based models are generally not as affected by outliers, while regression-based models are. If you're performing a statistical test, try a non-parametric test instead of a parametric one.\n",
    "* Use a more robust error metric. As Peter Mills mentions in his excellent answer, switching from mean squared error to mean absolute difference (or something like Huber Loss) reduces the influence of outliers. I explain a bit about why this is the case at Why is the median a measure of central tendency?\n",
    "* Use different metric (example: median instead of mean, absolute deviation instead of standard deviation): this method is mostly applied when outliers probably distort the distribution.\n",
    "* Opt for confidence interval: usually 3~5 times of standard deviation, the outside are probably outlier, but this method work fines with Gaussian-like distribution (normal, student,...)\n",
    "* Use transformation: if outlier is an inseparable part of your data set, it is okay to use log or more robust transformation.\n",
    "* Try other models, some are resistant to outliers: tree, random forest, clustering, k-nearest neighbors... they're all in handy."
   ]
  },
  {
   "cell_type": "markdown",
   "metadata": {},
   "source": [
    "#### 4) What are some differences you would expect in a model that minimizes squared error, versus a model that minimizes absolute error? In which cases would each error metric be appropriate?\n",
    "https://www.quora.com/How-would-a-model-change-if-we-minimized-absolute-error-instead-of-squared-error-What-about-the-other-way-around"
   ]
  },
  {
   "cell_type": "markdown",
   "metadata": {},
   "source": [
    "Minimizing the squared error (L2) over a set of numbers results in finding its mean, and minimizing the absolute error (L1) results in finding its median. (And minimizing the L0 error results in finding the modes.)\n",
    "\n",
    "As for when each loss function is most appropriate, the most basic differences are the using the squared error is easier to solve for and using the absolute error is more robust to outliers."
   ]
  },
  {
   "cell_type": "markdown",
   "metadata": {},
   "source": [
    "#### 5) What error metric would you use to evaluate how good a binary classifier is? What if the classes are imbalanced? What if there are more than 2 groups?"
   ]
  },
  {
   "cell_type": "markdown",
   "metadata": {},
   "source": [
    "<b>Simple accuracy</b> is the first thing to consider. This is fine if getting the correct answer is as helpful as getting the wrong answer is harmful, for both outcomes.\n",
    "\n",
    "Otherwise you can appeal to common metrics like <b>precision</b> and <b>recall</b>, all of which fall out from the 2 x 2 contingency table, which is shown quite well on Wikipedia (Evaluation of binary classifiers).\n",
    "\n",
    "There are really four different metrics here, and typically the two that concern the true positive rate are of most interest -- precision and recall. Using one or the other depends on how much you want to avoid false positives versus false negatives.\n",
    "\n",
    "You can weight them into one metric using the F1 score if you know how much you value one over the other.\n",
    "\n",
    "If the classes are imbalanced, I think that probably just affects your weightings. Conventionally I think you'd make the rare class the positive class and then the argument above applies.\n",
    "\n",
    "For multi-class, you can examine the Confusion matrix but it's not a metric. You can still define accuracy of course and that's useful."
   ]
  },
  {
   "cell_type": "markdown",
   "metadata": {},
   "source": [
    "#### 6) What are various ways to predict a binary response variable? Can you compare two of them and tell me when one would be more appropriate? What’s the difference between these? (SVM, Logistic Regression, Naive Bayes, Decision Tree, etc.)\n",
    "https://www.quora.com/What-are-the-advantages-of-different-classification-algorithms"
   ]
  },
  {
   "cell_type": "code",
   "execution_count": null,
   "metadata": {
    "collapsed": true
   },
   "outputs": [],
   "source": []
  }
 ],
 "metadata": {
  "kernelspec": {
   "display_name": "Python 2",
   "language": "python",
   "name": "python2"
  },
  "language_info": {
   "codemirror_mode": {
    "name": "ipython",
    "version": 2
   },
   "file_extension": ".py",
   "mimetype": "text/x-python",
   "name": "python",
   "nbconvert_exporter": "python",
   "pygments_lexer": "ipython2",
   "version": "2.7.11"
  }
 },
 "nbformat": 4,
 "nbformat_minor": 0
}
